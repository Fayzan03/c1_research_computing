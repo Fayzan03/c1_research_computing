{
 "cells": [
  {
   "cell_type": "markdown",
   "id": "ed92c3e4",
   "metadata": {},
   "source": [
    "EXAMPLE SHEET 2"
   ]
  },
  {
   "cell_type": "markdown",
   "id": "0e22ed8c",
   "metadata": {},
   "source": [
    "Q1.1,2"
   ]
  },
  {
   "cell_type": "code",
   "execution_count": 42,
   "id": "d9d8f218-2771-4a5f-a29e-4ca669289f30",
   "metadata": {},
   "outputs": [
    {
     "name": "stdout",
     "output_type": "stream",
     "text": [
      "sin(0.1) to fifth order is 0.09967\n"
     ]
    }
   ],
   "source": [
    "x=0.1\n",
    "res=x - x**3/3 + x**5/5\n",
    "print(f\"sin({x}) to fifth order is {res:.5f}\")"
   ]
  },
  {
   "cell_type": "markdown",
   "id": "a70cc905",
   "metadata": {},
   "source": [
    "Q1.3"
   ]
  },
  {
   "cell_type": "code",
   "execution_count": null,
   "id": "51d2ff60-abe9-46ea-acb6-48d68ac6d8de",
   "metadata": {},
   "outputs": [
    {
     "data": {
      "text/plain": [
       "[2, 3, 5, 7, 11, 13, 17, 19]"
      ]
     },
     "execution_count": 13,
     "metadata": {},
     "output_type": "execute_result"
    }
   ],
   "source": [
    "def prime(N):\n",
    "    res=[]\n",
    "    for i in range(2,N):\n",
    "        prime=True\n",
    "        for j in range(2,i):\n",
    "            if i%j==0:\n",
    "                prime=False\n",
    "        if prime:\n",
    "            res.append(i)\n",
    "    return res\n",
    "\n",
    "prime(20)\n",
    "        "
   ]
  },
  {
   "cell_type": "markdown",
   "id": "0402bc1f",
   "metadata": {},
   "source": [
    "Q1.4"
   ]
  },
  {
   "cell_type": "code",
   "execution_count": 21,
   "id": "d4221246-7dea-4ae0-afc0-08a077f56c3f",
   "metadata": {},
   "outputs": [
    {
     "data": {
      "text/plain": [
       "[0, 1, 3, 6, 2, 7, 13, 20, 12, 21]"
      ]
     },
     "execution_count": 21,
     "metadata": {},
     "output_type": "execute_result"
    }
   ],
   "source": [
    "def Rec(N):\n",
    "    res=[0]\n",
    "    unique=set()\n",
    "    a=1\n",
    "    for i in range(2,N+1):\n",
    "        res.append(a)\n",
    "        unique.add(a)\n",
    "        b1=a-i\n",
    "        b2=a+i\n",
    "        if b1>0 and (b1 not in unique):\n",
    "            a=b1\n",
    "        else:\n",
    "            a=b2\n",
    "    return res\n",
    "\n",
    "Rec(10)"
   ]
  },
  {
   "cell_type": "markdown",
   "id": "ec68e03b",
   "metadata": {},
   "source": [
    "Q1.5"
   ]
  },
  {
   "cell_type": "code",
   "execution_count": 23,
   "id": "98ca907f",
   "metadata": {},
   "outputs": [
    {
     "data": {
      "text/plain": [
       "[2, 3, 5, 7, 11, 13, 17, 19, 23, 29]"
      ]
     },
     "execution_count": 23,
     "metadata": {},
     "output_type": "execute_result"
    }
   ],
   "source": [
    "def prime2(N):\n",
    "    res=[]\n",
    "    i=2\n",
    "    while len(res)<N:\n",
    "        prime=True\n",
    "        for j in range(2,i):\n",
    "            if i%j==0:\n",
    "                prime=False\n",
    "        if prime:\n",
    "            res.append(i)\n",
    "        i+=1\n",
    "    return res\n",
    "\n",
    "prime2(10)"
   ]
  },
  {
   "cell_type": "code",
   "execution_count": null,
   "id": "ae84f590",
   "metadata": {},
   "outputs": [
    {
     "data": {
      "text/plain": [
       "[3, 2, 7, 13]"
      ]
     },
     "execution_count": 20,
     "metadata": {},
     "output_type": "execute_result"
    }
   ],
   "source": [
    "def both(N):\n",
    "    Recaman=Rec(N) #first N terms of Recaman's seq\n",
    "    prime=prime2(N) #first N primes\n",
    "    in_both=[]\n",
    "    for num in Recaman:\n",
    "        if num in prime:\n",
    "            in_both.append(num)\n",
    "    return in_both\n",
    "\n",
    "both(10)\n",
    "\n",
    "\n",
    "    "
   ]
  },
  {
   "cell_type": "markdown",
   "id": "88aadbff",
   "metadata": {},
   "source": [
    "Q1.6"
   ]
  },
  {
   "cell_type": "code",
   "execution_count": 37,
   "id": "354cea57",
   "metadata": {},
   "outputs": [
    {
     "name": "stdout",
     "output_type": "stream",
     "text": [
      "[1, 2, 3, 4, 5, 6, 7, 8, 9, 10, 12, 14, 15, 16, 18, 20, 21, 24, 27, 28, 30, 32, 35, 36, 40, 42, 45, 48, 54, 56, 60, 63, 64, 70, 72, 80, 81, 84, 90, 96, 105, 108, 112, 120, 126, 128, 135, 140, 144, 160, 162, 168, 180, 189, 192, 210, 216, 224, 240, 252, 270, 280, 288, 315, 320, 324, 336, 360, 378, 384, 405, 420, 432, 448, 480, 504, 540, 560, 567, 576, 630, 640, 648, 672, 720, 756, 810, 840, 864, 896, 945, 960, 1008, 1080, 1120, 1134, 1152, 1260, 1296, 1344, 1440, 1512, 1620, 1680, 1728, 1890, 1920, 2016, 2160, 2240, 2268, 2520, 2592, 2688, 2835, 2880, 3024, 3240, 3360, 3456, 3780, 4032, 4320, 4480, 4536, 5040, 5184, 5670, 5760, 6048, 6480, 6720, 7560, 8064, 8640, 9072, 10080, 10368, 11340, 12096, 12960, 13440, 15120, 17280, 18144, 20160, 22680, 24192, 25920, 30240, 36288, 40320, 45360, 51840, 60480, 72576, 90720, 120960, 181440, 362880]\n",
      "160\n",
      "[(1, 362880), (2, 181440), (3, 120960), (4, 90720), (5, 72576), (6, 60480), (7, 51840), (8, 45360), (9, 40320), (10, 36288), (12, 30240), (14, 25920), (15, 24192), (16, 22680), (18, 20160), (20, 18144), (21, 17280), (24, 15120), (27, 13440), (28, 12960), (30, 12096), (32, 11340), (35, 10368), (36, 10080), (40, 9072), (42, 8640), (45, 8064), (48, 7560), (54, 6720), (56, 6480), (60, 6048), (63, 5760), (64, 5670), (70, 5184), (72, 5040), (80, 4536), (81, 4480), (84, 4320), (90, 4032), (96, 3780), (105, 3456), (108, 3360), (112, 3240), (120, 3024), (126, 2880), (128, 2835), (135, 2688), (140, 2592), (144, 2520), (160, 2268), (162, 2240), (168, 2160), (180, 2016), (189, 1920), (192, 1890), (210, 1728), (216, 1680), (224, 1620), (240, 1512), (252, 1440), (270, 1344), (280, 1296), (288, 1260), (315, 1152), (320, 1134), (324, 1120), (336, 1080), (360, 1008), (378, 960), (384, 945), (405, 896), (420, 864), (432, 840), (448, 810), (480, 756), (504, 720), (540, 672), (560, 648), (567, 640), (576, 630)]\n"
     ]
    }
   ],
   "source": [
    "n=362880\n",
    "factors=[x for x in range(1,n+1) if n%x==0]\n",
    "print(factors)\n",
    "print(len(factors))\n",
    "\n",
    "pairs=[(factors[i],factors[-(i+1)]) for i in range(80)]\n",
    "print(pairs)"
   ]
  },
  {
   "cell_type": "markdown",
   "id": "758e88ff",
   "metadata": {},
   "source": [
    "Q1.7"
   ]
  },
  {
   "cell_type": "code",
   "execution_count": 2,
   "id": "31a2cff0",
   "metadata": {},
   "outputs": [
    {
     "name": "stdout",
     "output_type": "stream",
     "text": [
      "194\n"
     ]
    }
   ],
   "source": [
    "import random\n",
    "X=0\n",
    "move=[1,-1]\n",
    "step=0\n",
    "while abs(X)<10:\n",
    "    jump=random.choice(move)\n",
    "    X+=jump\n",
    "    #print(X)\n",
    "    step+=1\n",
    "print(step) #number of steps until stop\n"
   ]
  }
 ],
 "metadata": {
  "kernelspec": {
   "display_name": "Python 3",
   "language": "python",
   "name": "python3"
  },
  "language_info": {
   "codemirror_mode": {
    "name": "ipython",
    "version": 3
   },
   "file_extension": ".py",
   "mimetype": "text/x-python",
   "name": "python",
   "nbconvert_exporter": "python",
   "pygments_lexer": "ipython3",
   "version": "3.11.4"
  }
 },
 "nbformat": 4,
 "nbformat_minor": 5
}
